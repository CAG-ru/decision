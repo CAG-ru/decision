{
 "cells": [
  {
   "cell_type": "markdown",
   "metadata": {},
   "source": [
    "# Генерация данных для витрины ИНИД"
   ]
  },
  {
   "cell_type": "markdown",
   "metadata": {},
   "source": [
    "Сгенерируем данные по доходам чиновников, [выложенные в открытый доступ на платформе ИНИД](https://data-in.ru/data-catalog/datasets/150/)."
   ]
  },
  {
   "cell_type": "code",
   "execution_count": 1,
   "metadata": {},
   "outputs": [],
   "source": [
    "import pandas as pd\n",
    "import os\n",
    "\n",
    "from decide import *"
   ]
  },
  {
   "cell_type": "markdown",
   "metadata": {},
   "source": [
    "## Парсинг деклараций\n",
    "\n",
    "Проведем скачивание и парсинг всех деклараций, информация о которых находится в `config/config.csv`. Этот процесс может занять некоторое время, особенно если сайты министерств медленно отвечают на запросы."
   ]
  },
  {
   "cell_type": "code",
   "execution_count": 2,
   "metadata": {},
   "outputs": [],
   "source": [
    "if not os.path.exists('data/'):\n",
    "    relevant_columns = ['Код министерства', \n",
    "                        'Наименование министерства', \n",
    "                        'Год',\n",
    "                        'Ссылка на раздел сайта с декларациями',\n",
    "                        'Ссылка на файл с декларациями']\n",
    "\n",
    "    config = load_config()[relevant_columns]\n",
    "\n",
    "    valid_dir('data/')\n",
    "\n",
    "    def parse_declaration(row):\n",
    "        print('Parsing with {}, {}, {}'.format(row[0], row[1], row[2]))\n",
    "        decide(row[0], row[1], row[2], config)\n",
    "    \n",
    "    config.drop_duplicates(subset=['Код министерства', 'Год']).apply(parse_declaration, axis=1)"
   ]
  },
  {
   "cell_type": "markdown",
   "metadata": {},
   "source": [
    "## Соберем результат парсинга всех деклараций в одну таблицу"
   ]
  },
  {
   "cell_type": "code",
   "execution_count": 3,
   "metadata": {},
   "outputs": [],
   "source": [
    "df = pd.DataFrame()\n",
    "\n",
    "csv_path = 'data/csv_files/'\n",
    "csv_files = [os.path.join(csv_path, fn) for fn in os.listdir(csv_path)]\n",
    "\n",
    "df = pd.concat([pd.read_csv(cf, sep=';') for cf in csv_files], axis=0)\n",
    "df.drop_duplicates(subset='id', inplace=True)"
   ]
  },
  {
   "cell_type": "markdown",
   "metadata": {},
   "source": [
    "## Нормализация данных"
   ]
  },
  {
   "cell_type": "markdown",
   "metadata": {},
   "source": [
    "В таблице, выложенной на сайт ИНИД, – данные только о доходах (не об имуществе) самих чиновников, названия должностей сгруппированы, вручную заполнены пропуски, а суммы приведены к постоянным ценам 2019 года. "
   ]
  },
  {
   "cell_type": "code",
   "execution_count": 4,
   "metadata": {},
   "outputs": [],
   "source": [
    "from src.inid.yaspeller import use_yandexspeller\n",
    "from src.inid.normalizer import *\n",
    "\n",
    "header = [  \n",
    "    'id',\n",
    "    'name',\n",
    "    'position',\n",
    "    'position_corrected',\n",
    "    'income',\n",
    "    'income_add',\n",
    "    'income_diff',\n",
    "    'income_desc',\n",
    "    'state_name',\n",
    "    'state_name_long',\n",
    "    'year'\n",
    "]\n",
    "\n",
    "clerks = pd.DataFrame(columns=header)"
   ]
  },
  {
   "cell_type": "code",
   "execution_count": null,
   "metadata": {},
   "outputs": [],
   "source": [
    "clerks['id'] = df['id'].values.tolist()\n",
    "clerks['name'] = df['name'].values.tolist()\n",
    "clerks['position'] = df['position'].values.tolist()\n",
    "clerks['income'] = df['money'].apply(normalize_money).values.tolist()\n",
    "clerks['income_add'] = df['money_desc'].apply(normalize_money_add).values.tolist()\n",
    "clerks['income_diff'] = df.apply(calc_money_diff, axis=1).values.tolist()\n",
    "clerks['income_desc'] = df['money_desc'].apply(normalize_money_desc).values.tolist()\n",
    "clerks['state_name'] = df['state_name'].apply(shorten_name).values.tolist()\n",
    "clerks['state_name_long'] = df['state_name'].values.tolist()\n",
    "clerks['year'] = df['year'].values.tolist()\n",
    "\n",
    "positions = set(name for name,group in df.groupby('position'))\n",
    "positions_corrected = {p: use_yandexspeller(p) for p in positions}\n",
    "clerks['position_corrected'] = clerks['position'].map(positions_corrected)"
   ]
  },
  {
   "cell_type": "markdown",
   "metadata": {},
   "source": [
    "Удаляем министерства, в которых применяется другая система должностей"
   ]
  },
  {
   "cell_type": "code",
   "execution_count": null,
   "metadata": {},
   "outputs": [],
   "source": [
    "clerks = clerks[~clerks['state_name'].isin(['МВД России', 'МИД России'])]"
   ]
  },
  {
   "cell_type": "markdown",
   "metadata": {},
   "source": [
    "Группируем должности"
   ]
  },
  {
   "cell_type": "code",
   "execution_count": null,
   "metadata": {},
   "outputs": [],
   "source": [
    "clerks['position_standard'] = clerks['position_corrected'].apply(find_category)\n",
    "clerks['category'] = clerks['position_standard'].map(category_dict)\n",
    "clerks['group'] = clerks['position_standard'].map(group_dict)\n",
    "clerks['category'] = clerks['category'].replace(r'^\\s*$', None, regex=True)\n",
    "clerks['group'] = clerks['group'].replace(r'^\\s*$', None, regex=True)"
   ]
  },
  {
   "cell_type": "markdown",
   "metadata": {},
   "source": [
    "## Создаем колонки с доходом в постояннных ценах 2019 года"
   ]
  },
  {
   "cell_type": "code",
   "execution_count": null,
   "metadata": {},
   "outputs": [],
   "source": [
    "from decimal import Decimal\n",
    "\n",
    "dict = {\n",
    "    2010: 1.756666993, \n",
    "    2011: 1.655671058, \n",
    "    2012: 1.553599567, \n",
    "    2013: 1.459189975, \n",
    "    2014: 1.310453503, \n",
    "    2015: 1.160617751,\n",
    "    2016: 1.101259846,\n",
    "    2017: 1.07429504, \n",
    "    2018: 1.0304, \n",
    "    2019: 1.0\n",
    "}\n",
    "\n",
    "clerks['coef'] = clerks['year'].map(dict)\n",
    "clerks['income_month_const'] = round((clerks['income'].astype(float) / 12) * clerks['coef'], 2)\n",
    "clerks['income_diff_month_const'] = round((clerks['income'].astype(float) / 12) * clerks['coef'], 2)"
   ]
  },
  {
   "cell_type": "code",
   "execution_count": null,
   "metadata": {},
   "outputs": [],
   "source": [
    "header = ['name', \n",
    "    'position', \n",
    "    'position_standard', \n",
    "    'category', \n",
    "    'group', \n",
    "    'state_name', \n",
    "    'state_name_long', \n",
    "    'year', \n",
    "    'income', \n",
    "    'income_desc', \n",
    "    'income_add',\n",
    "    'income_diff', \n",
    "    'income_month_const', \n",
    "    'income_diff_month_const'\n",
    "]\n",
    "\n",
    "clerks = clerks[header]\n",
    "\n",
    "clerks.to_csv('data/clerks.csv', sep=';', index=False)\n",
    "clerks.to_excel('data/income.xlsx', index = True)"
   ]
  },
  {
   "cell_type": "code",
   "execution_count": null,
   "metadata": {},
   "outputs": [],
   "source": [
    "display(clerks)"
   ]
  }
 ],
 "metadata": {
  "kernelspec": {
   "display_name": "Python 3",
   "language": "python",
   "name": "python3"
  },
  "language_info": {
   "codemirror_mode": {
    "name": "ipython",
    "version": 3
   },
   "file_extension": ".py",
   "mimetype": "text/x-python",
   "name": "python",
   "nbconvert_exporter": "python",
   "pygments_lexer": "ipython3",
   "version": "3.7.6"
  }
 },
 "nbformat": 4,
 "nbformat_minor": 4
}
